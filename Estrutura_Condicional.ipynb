{
  "cells": [
    {
      "cell_type": "markdown",
      "source": [
        "Condiconal"
      ],
      "metadata": {
        "id": "avL6Klh9AVZy"
      }
    },
    {
      "cell_type": "code",
      "source": [
        "# If\n",
        "if 10 > 5:\n",
        "    print(\"10 é maior que 5\")\n"
      ],
      "metadata": {
        "colab": {
          "base_uri": "https://localhost:8080/"
        },
        "id": "H90yJ9yJC24O",
        "outputId": "457d98b4-7fa1-48a6-e78d-458a75b5a388"
      },
      "execution_count": null,
      "outputs": [
        {
          "output_type": "stream",
          "name": "stdout",
          "text": [
            "10 é maior que 5\n"
          ]
        }
      ]
    },
    {
      "cell_type": "code",
      "source": [
        "# If/else\n",
        "num1=  10\n",
        "num2= 5\n",
        "if num1 > num2:\n",
        "    print(\"num1 é o maior número\")\n",
        "else:\n",
        "    print(\"num2 é o maior número\")"
      ],
      "metadata": {
        "id": "x6Y_QcQCA1Bs",
        "outputId": "93136b35-3224-4ab7-c04f-33fb40ebd0ca",
        "colab": {
          "base_uri": "https://localhost:8080/"
        }
      },
      "execution_count": null,
      "outputs": [
        {
          "output_type": "stream",
          "name": "stdout",
          "text": [
            "num1 é o maior número\n"
          ]
        }
      ]
    },
    {
      "cell_type": "markdown",
      "source": [
        "Condicional com operadores lógicos"
      ],
      "metadata": {
        "id": "3ocyG4_HDzor"
      }
    },
    {
      "cell_type": "code",
      "source": [
        "num1 = 10\n",
        "num2 = 16\n",
        "num3 = 2\n",
        "if (num1 > num2) and (num1 > num3):\n",
        "    print(\"num1 é o maior número\")\n",
        "else:\n",
        "    print(\"num1 não é o maior número\")"
      ],
      "metadata": {
        "colab": {
          "base_uri": "https://localhost:8080/"
        },
        "id": "0WKVVMPoD7dz",
        "outputId": "2e831c7d-f1bf-4286-a6f3-7aafae705b48"
      },
      "execution_count": null,
      "outputs": [
        {
          "output_type": "stream",
          "name": "stdout",
          "text": [
            "num1 não é o maior número\n"
          ]
        }
      ]
    },
    {
      "cell_type": "code",
      "source": [
        "nota =\n",
        "if nota >= 50:\n",
        "    print(\"Aprovado\")\n",
        "elif nota >= 40:\n",
        "    print(\"Ficou a baixo do esperado\")\n",
        "elif nota >= 30:\n",
        "    print(\"Recuperação\")\n",
        "else:\n",
        "    print(\"Reprovado\")"
      ],
      "metadata": {
        "colab": {
          "base_uri": "https://localhost:8080/"
        },
        "id": "Oe0MAQwDN-Yc",
        "outputId": "a6ca843c-5c5d-4637-fe86-20121c92f910"
      },
      "execution_count": null,
      "outputs": [
        {
          "output_type": "stream",
          "name": "stdout",
          "text": [
            "Reprovado\n"
          ]
        }
      ]
    },
    {
      "cell_type": "code",
      "source": [
        "nota = 63\n",
        "if nota >= 90:\n",
        "    print(\"A\")\n",
        "elif nota >= 80:\n",
        "    print(\"B\")\n",
        "elif nota >= 70:\n",
        "    print(\"C\")\n",
        "elif nota >= 60:\n",
        "    print(\"D\")\n",
        "elif nota >= 50:\n",
        "    print(\"F\")\n",
        "else:\n",
        "    print('Pulo para cá')"
      ],
      "metadata": {
        "colab": {
          "base_uri": "https://localhost:8080/"
        },
        "id": "qrpojuAzOMyc",
        "outputId": "a522758e-d4e6-4db9-f1b6-2371d5f72bf3"
      },
      "execution_count": null,
      "outputs": [
        {
          "output_type": "stream",
          "name": "stdout",
          "text": [
            "D\n"
          ]
        }
      ]
    },
    {
      "cell_type": "code",
      "source": [
        "# If: Só existe um.\n",
        "# Else: Só exite um.\n",
        "# Elif: Pode haver vários"
      ],
      "metadata": {
        "id": "BUe5rFNaKpqg"
      },
      "execution_count": null,
      "outputs": []
    }
  ],
  "metadata": {
    "colab": {
      "toc_visible": true,
      "provenance": []
    },
    "kernelspec": {
      "display_name": "Python 3",
      "name": "python3"
    }
  },
  "nbformat": 4,
  "nbformat_minor": 0
}